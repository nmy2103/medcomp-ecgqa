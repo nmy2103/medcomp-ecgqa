{
 "cells": [
  {
   "cell_type": "code",
   "execution_count": null,
   "id": "effective-nomination",
   "metadata": {},
   "outputs": [],
   "source": [
    "import pandas as pd\n",
    "import numpy as np\n",
    "import datetime as dt\n",
    "import pyedflib\n",
    "import matplotlib.pyplot as plt\n",
    "from os import listdir"
   ]
  },
  {
   "cell_type": "code",
   "execution_count": null,
   "id": "aquatic-science",
   "metadata": {},
   "outputs": [],
   "source": [
    "edfs = sorted([f for f in listdir('.') if f.endswith('EDF')])\n",
    "mws = sorted([f for f in listdir('.') if 'HRV Analysis' in f])"
   ]
  },
  {
   "cell_type": "code",
   "execution_count": null,
   "id": "finnish-college",
   "metadata": {},
   "outputs": [],
   "source": [
    "for edf in edfs:\n",
    "    # Get file information\n",
    "    name = edf.removesuffix('.EDF')\n",
    "    f = pyedflib.EdfReader(edf)\n",
    "    summary = pd.DataFrame(f.getSignalHeaders())\n",
    "    duration = f.getFileDuration()\n",
    "    start = dt.datetime.timestamp(f.getStartdatetime()) * 1000\n",
    "    end = start + duration\n",
    "    \n",
    "    # Get ECG recording info\n",
    "    ecg_i = summary.index[summary['label'] == 'ECG'][0]\n",
    "    fs = f.getSampleFrequency(ecg_i)\n",
    "    unit = f.getPhysicalDimension(ecg_i)\n",
    "    \n",
    "    # Create EDF data frame\n",
    "    ecg = pd.DataFrame({f'{unit}': f.readSignal(ecg_i)})\n",
    "    ecg_time = pd.DataFrame(np.arange(\n",
    "        start, end, (1 / fs)), columns = ['timestamp'])\n",
    "    ecg = pd.concat([ecg_time, ecg], axis = 1).set_index('timestamp')\n",
    "    \n",
    "    # Write summary and ECG data to CSV\n",
    "    summary.to_csv(f'./{name}_Summary.csv', index = False)\n",
    "    ecg.to_csv(f'./{name}_ECG.csv', index = True)\n",
    "    \n",
    "    # Close EDF file\n",
    "    f.close()\n",
    "    del f"
   ]
  }
 ],
 "metadata": {
  "kernelspec": {
   "display_name": "Python 3",
   "language": "python",
   "name": "python3"
  },
  "language_info": {
   "codemirror_mode": {
    "name": "ipython",
    "version": 3
   },
   "file_extension": ".py",
   "mimetype": "text/x-python",
   "name": "python",
   "nbconvert_exporter": "python",
   "pygments_lexer": "ipython3",
   "version": "3.9.1"
  }
 },
 "nbformat": 4,
 "nbformat_minor": 5
}
